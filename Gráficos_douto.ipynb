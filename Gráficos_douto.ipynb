{
  "nbformat": 4,
  "nbformat_minor": 0,
  "metadata": {
    "colab": {
      "provenance": [],
      "toc_visible": true,
      "include_colab_link": true
    },
    "kernelspec": {
      "name": "python3",
      "display_name": "Python 3"
    }
  },
  "cells": [
    {
      "cell_type": "markdown",
      "metadata": {
        "id": "view-in-github",
        "colab_type": "text"
      },
      "source": [
        "<a href=\"https://colab.research.google.com/github/jacksrenan/Charts/blob/main/Gr%C3%A1ficos_douto.ipynb\" target=\"_parent\"><img src=\"https://colab.research.google.com/assets/colab-badge.svg\" alt=\"Open In Colab\"/></a>"
      ]
    },
    {
      "cell_type": "markdown",
      "source": [
        "Gráfico Barras MetricPerformance"
      ],
      "metadata": {
        "id": "riJTYJ6NWktI"
      }
    },
    {
      "cell_type": "code",
      "metadata": {
        "id": "dTb_pvQIqtvV"
      },
      "source": [
        "import plotly.express as px\n",
        "import pandas as pd\n",
        "\n",
        "# Datos de muestra\n",
        "df = pd.DataFrame(dict(\n",
        "    Model = [\"Marçal et al. (2022)\",\"Pillai and Chouhan (2014)\",\"Amruta et al. (2019)\",\"Tió-Coma et al. (2021)\",\"Pal et al. (2013)\",\"Das et al. (2013)\",\"Yasir and Rahman and Ahmed (2014)\",\"Barbieri et al. (2022)\",\"Gama et al. (2019)\",\"Banerjee and Das and Nasipuri (2020)\",\"Baweja and Parhar (2016)\",\"De Souza et al. (2021)\",\"Jin and Cruz and Gonçalves (2020)\",\"Mondal et al. (2020)\",\"Jaikishore and Udutalapally and Das (2021)\",\"Steyve et al. (2022)\",\"Casuayan de Goma and Devaraj (2020)\"],\n",
        "    Score = [84, 85, 87, 87, 89, 90, 90, 90, 90, 91, 92, 92, 93, 94, 94, 96, 96],\n",
        "    text  = ['DT - Accuracy  (84%)','MLP - Accuracy  (85%)','DT - Accuracy  (87%)','RF - Sensitivity  (87%)','SVM - Accuracy  (89%)','LibSVM - Accuracy  (90%)','FFBPN - Accuracy  (90%)','LR - Accuracy  (90%)','RF - Accuracy  (90%)','SVM - Accuracy (91%)','Inception-v3 - Accuracy  (92%)','RF - Accuracy  (92%)','SVM - Accuracy  (93%)','DenseNet-121 - Accuracy  (94%)','Mobile Net V2 - Accuracy  (94)','SVM-BHO - Accuracy  (96%)','ANN - Precision  (96%)']))\n",
        "\n",
        "fig = px.bar(df, x = 'Score', y = 'Model', text = 'text',\n",
        "             color = 'Score', color_continuous_scale = 'viridis')\n",
        "\n",
        "fig.show() "
      ],
      "execution_count": null,
      "outputs": []
    },
    {
      "cell_type": "markdown",
      "source": [
        "Gráfico Barras MetricPerformance MODIFICADO"
      ],
      "metadata": {
        "id": "dVLcvqnvuSGG"
      }
    },
    {
      "cell_type": "code",
      "source": [
        "import plotly.express as px\n",
        "import pandas as pd\n",
        "\n",
        "# Datos de muestra\n",
        "df = pd.DataFrame(dict(\n",
        "    Model = [\"Marçal et al. (2022)\",\"Pillai and Chouhan (2014)\",\"Amruta et al. (2019)\",\"Pal et al. (2013)\",\"Das et al. (2013)\",\"Yasir and Rahman and Ahmed (2014)\",\"Barbieri et al. (2022)\",\"Gama et al. (2019)\",\"Banerjee and Das and Nasipuri (2020)\",\"Baweja and Parhar (2016)\",\"De Souza et al. (2021)\",\"Jin and Cruz and Gonçalves (2020)\",\"Mondal et al. (2020)\",\"Jaikishore and Udutalapally and Das (2021)\",\"Steyve et al. (2022)\"],\n",
        "    Score = [84, 85, 87, 89, 90, 90, 90, 90, 91, 92, 92, 93, 94, 94, 96],\n",
        "    text  = ['DT - Accuracy  (84%)','MLP - Accuracy  (85%)','DT - Accuracy  (87%)','SVM - Accuracy  (89%)','LibSVM - Accuracy  (90%)','FFBPN - Accuracy  (90%)','LR - Accuracy  (90%)','RF - Accuracy  (90%)','SVM - Accuracy (91%)','Inception-v3 - Accuracy  (92%)','RF - Accuracy  (92%)','SVM - Accuracy  (93%)','DenseNet-121 - Accuracy  (94%)','Mobile Net V2 - Accuracy  (94)','SVM-BHO - Accuracy  (96%)']))\n",
        "\n",
        "fig = px.bar(df, x = 'Score', y = 'Model', text = 'text',\n",
        "             color = 'Score', color_continuous_scale = 'viridis')\n",
        "\n",
        "fig.show() "
      ],
      "metadata": {
        "colab": {
          "base_uri": "https://localhost:8080/",
          "height": 542
        },
        "id": "U2e2yYW5uYDp",
        "outputId": "7da145e9-b59d-4ea4-e67c-122faacfc2a6"
      },
      "execution_count": null,
      "outputs": [
        {
          "output_type": "display_data",
          "data": {
            "text/html": [
              "<html>\n",
              "<head><meta charset=\"utf-8\" /></head>\n",
              "<body>\n",
              "    <div>            <script src=\"https://cdnjs.cloudflare.com/ajax/libs/mathjax/2.7.5/MathJax.js?config=TeX-AMS-MML_SVG\"></script><script type=\"text/javascript\">if (window.MathJax && window.MathJax.Hub && window.MathJax.Hub.Config) {window.MathJax.Hub.Config({SVG: {font: \"STIX-Web\"}});}</script>                <script type=\"text/javascript\">window.PlotlyConfig = {MathJaxConfig: 'local'};</script>\n",
              "        <script src=\"https://cdn.plot.ly/plotly-2.18.2.min.js\"></script>                <div id=\"242193fc-30af-4977-b1c8-91a258fa3b34\" class=\"plotly-graph-div\" style=\"height:525px; width:100%;\"></div>            <script type=\"text/javascript\">                                    window.PLOTLYENV=window.PLOTLYENV || {};                                    if (document.getElementById(\"242193fc-30af-4977-b1c8-91a258fa3b34\")) {                    Plotly.newPlot(                        \"242193fc-30af-4977-b1c8-91a258fa3b34\",                        [{\"alignmentgroup\":\"True\",\"hovertemplate\":\"Score=%{marker.color}<br>Model=%{y}<br>text=%{text}<extra></extra>\",\"legendgroup\":\"\",\"marker\":{\"color\":[84,85,87,89,90,90,90,90,91,92,92,93,94,94,96],\"coloraxis\":\"coloraxis\",\"pattern\":{\"shape\":\"\"}},\"name\":\"\",\"offsetgroup\":\"\",\"orientation\":\"h\",\"showlegend\":false,\"text\":[\"DT - Accuracy  (84%)\",\"MLP - Accuracy  (85%)\",\"DT - Accuracy  (87%)\",\"SVM - Accuracy  (89%)\",\"LibSVM - Accuracy  (90%)\",\"FFBPN - Accuracy  (90%)\",\"LR - Accuracy  (90%)\",\"RF - Accuracy  (90%)\",\"SVM - Accuracy (91%)\",\"Inception-v3 - Accuracy  (92%)\",\"RF - Accuracy  (92%)\",\"SVM - Accuracy  (93%)\",\"DenseNet-121 - Accuracy  (94%)\",\"Mobile Net V2 - Accuracy  (94)\",\"SVM-BHO - Accuracy  (96%)\"],\"textposition\":\"auto\",\"x\":[84,85,87,89,90,90,90,90,91,92,92,93,94,94,96],\"xaxis\":\"x\",\"y\":[\"Mar\\u00e7al et al. (2022)\",\"Pillai and Chouhan (2014)\",\"Amruta et al. (2019)\",\"Pal et al. (2013)\",\"Das et al. (2013)\",\"Yasir and Rahman and Ahmed (2014)\",\"Barbieri et al. (2022)\",\"Gama et al. (2019)\",\"Banerjee and Das and Nasipuri (2020)\",\"Baweja and Parhar (2016)\",\"De Souza et al. (2021)\",\"Jin and Cruz and Gon\\u00e7alves (2020)\",\"Mondal et al. (2020)\",\"Jaikishore and Udutalapally and Das (2021)\",\"Steyve et al. (2022)\"],\"yaxis\":\"y\",\"type\":\"bar\"}],                        {\"template\":{\"data\":{\"histogram2dcontour\":[{\"type\":\"histogram2dcontour\",\"colorbar\":{\"outlinewidth\":0,\"ticks\":\"\"},\"colorscale\":[[0.0,\"#0d0887\"],[0.1111111111111111,\"#46039f\"],[0.2222222222222222,\"#7201a8\"],[0.3333333333333333,\"#9c179e\"],[0.4444444444444444,\"#bd3786\"],[0.5555555555555556,\"#d8576b\"],[0.6666666666666666,\"#ed7953\"],[0.7777777777777778,\"#fb9f3a\"],[0.8888888888888888,\"#fdca26\"],[1.0,\"#f0f921\"]]}],\"choropleth\":[{\"type\":\"choropleth\",\"colorbar\":{\"outlinewidth\":0,\"ticks\":\"\"}}],\"histogram2d\":[{\"type\":\"histogram2d\",\"colorbar\":{\"outlinewidth\":0,\"ticks\":\"\"},\"colorscale\":[[0.0,\"#0d0887\"],[0.1111111111111111,\"#46039f\"],[0.2222222222222222,\"#7201a8\"],[0.3333333333333333,\"#9c179e\"],[0.4444444444444444,\"#bd3786\"],[0.5555555555555556,\"#d8576b\"],[0.6666666666666666,\"#ed7953\"],[0.7777777777777778,\"#fb9f3a\"],[0.8888888888888888,\"#fdca26\"],[1.0,\"#f0f921\"]]}],\"heatmap\":[{\"type\":\"heatmap\",\"colorbar\":{\"outlinewidth\":0,\"ticks\":\"\"},\"colorscale\":[[0.0,\"#0d0887\"],[0.1111111111111111,\"#46039f\"],[0.2222222222222222,\"#7201a8\"],[0.3333333333333333,\"#9c179e\"],[0.4444444444444444,\"#bd3786\"],[0.5555555555555556,\"#d8576b\"],[0.6666666666666666,\"#ed7953\"],[0.7777777777777778,\"#fb9f3a\"],[0.8888888888888888,\"#fdca26\"],[1.0,\"#f0f921\"]]}],\"heatmapgl\":[{\"type\":\"heatmapgl\",\"colorbar\":{\"outlinewidth\":0,\"ticks\":\"\"},\"colorscale\":[[0.0,\"#0d0887\"],[0.1111111111111111,\"#46039f\"],[0.2222222222222222,\"#7201a8\"],[0.3333333333333333,\"#9c179e\"],[0.4444444444444444,\"#bd3786\"],[0.5555555555555556,\"#d8576b\"],[0.6666666666666666,\"#ed7953\"],[0.7777777777777778,\"#fb9f3a\"],[0.8888888888888888,\"#fdca26\"],[1.0,\"#f0f921\"]]}],\"contourcarpet\":[{\"type\":\"contourcarpet\",\"colorbar\":{\"outlinewidth\":0,\"ticks\":\"\"}}],\"contour\":[{\"type\":\"contour\",\"colorbar\":{\"outlinewidth\":0,\"ticks\":\"\"},\"colorscale\":[[0.0,\"#0d0887\"],[0.1111111111111111,\"#46039f\"],[0.2222222222222222,\"#7201a8\"],[0.3333333333333333,\"#9c179e\"],[0.4444444444444444,\"#bd3786\"],[0.5555555555555556,\"#d8576b\"],[0.6666666666666666,\"#ed7953\"],[0.7777777777777778,\"#fb9f3a\"],[0.8888888888888888,\"#fdca26\"],[1.0,\"#f0f921\"]]}],\"surface\":[{\"type\":\"surface\",\"colorbar\":{\"outlinewidth\":0,\"ticks\":\"\"},\"colorscale\":[[0.0,\"#0d0887\"],[0.1111111111111111,\"#46039f\"],[0.2222222222222222,\"#7201a8\"],[0.3333333333333333,\"#9c179e\"],[0.4444444444444444,\"#bd3786\"],[0.5555555555555556,\"#d8576b\"],[0.6666666666666666,\"#ed7953\"],[0.7777777777777778,\"#fb9f3a\"],[0.8888888888888888,\"#fdca26\"],[1.0,\"#f0f921\"]]}],\"mesh3d\":[{\"type\":\"mesh3d\",\"colorbar\":{\"outlinewidth\":0,\"ticks\":\"\"}}],\"scatter\":[{\"fillpattern\":{\"fillmode\":\"overlay\",\"size\":10,\"solidity\":0.2},\"type\":\"scatter\"}],\"parcoords\":[{\"type\":\"parcoords\",\"line\":{\"colorbar\":{\"outlinewidth\":0,\"ticks\":\"\"}}}],\"scatterpolargl\":[{\"type\":\"scatterpolargl\",\"marker\":{\"colorbar\":{\"outlinewidth\":0,\"ticks\":\"\"}}}],\"bar\":[{\"error_x\":{\"color\":\"#2a3f5f\"},\"error_y\":{\"color\":\"#2a3f5f\"},\"marker\":{\"line\":{\"color\":\"#E5ECF6\",\"width\":0.5},\"pattern\":{\"fillmode\":\"overlay\",\"size\":10,\"solidity\":0.2}},\"type\":\"bar\"}],\"scattergeo\":[{\"type\":\"scattergeo\",\"marker\":{\"colorbar\":{\"outlinewidth\":0,\"ticks\":\"\"}}}],\"scatterpolar\":[{\"type\":\"scatterpolar\",\"marker\":{\"colorbar\":{\"outlinewidth\":0,\"ticks\":\"\"}}}],\"histogram\":[{\"marker\":{\"pattern\":{\"fillmode\":\"overlay\",\"size\":10,\"solidity\":0.2}},\"type\":\"histogram\"}],\"scattergl\":[{\"type\":\"scattergl\",\"marker\":{\"colorbar\":{\"outlinewidth\":0,\"ticks\":\"\"}}}],\"scatter3d\":[{\"type\":\"scatter3d\",\"line\":{\"colorbar\":{\"outlinewidth\":0,\"ticks\":\"\"}},\"marker\":{\"colorbar\":{\"outlinewidth\":0,\"ticks\":\"\"}}}],\"scattermapbox\":[{\"type\":\"scattermapbox\",\"marker\":{\"colorbar\":{\"outlinewidth\":0,\"ticks\":\"\"}}}],\"scatterternary\":[{\"type\":\"scatterternary\",\"marker\":{\"colorbar\":{\"outlinewidth\":0,\"ticks\":\"\"}}}],\"scattercarpet\":[{\"type\":\"scattercarpet\",\"marker\":{\"colorbar\":{\"outlinewidth\":0,\"ticks\":\"\"}}}],\"carpet\":[{\"aaxis\":{\"endlinecolor\":\"#2a3f5f\",\"gridcolor\":\"white\",\"linecolor\":\"white\",\"minorgridcolor\":\"white\",\"startlinecolor\":\"#2a3f5f\"},\"baxis\":{\"endlinecolor\":\"#2a3f5f\",\"gridcolor\":\"white\",\"linecolor\":\"white\",\"minorgridcolor\":\"white\",\"startlinecolor\":\"#2a3f5f\"},\"type\":\"carpet\"}],\"table\":[{\"cells\":{\"fill\":{\"color\":\"#EBF0F8\"},\"line\":{\"color\":\"white\"}},\"header\":{\"fill\":{\"color\":\"#C8D4E3\"},\"line\":{\"color\":\"white\"}},\"type\":\"table\"}],\"barpolar\":[{\"marker\":{\"line\":{\"color\":\"#E5ECF6\",\"width\":0.5},\"pattern\":{\"fillmode\":\"overlay\",\"size\":10,\"solidity\":0.2}},\"type\":\"barpolar\"}],\"pie\":[{\"automargin\":true,\"type\":\"pie\"}]},\"layout\":{\"autotypenumbers\":\"strict\",\"colorway\":[\"#636efa\",\"#EF553B\",\"#00cc96\",\"#ab63fa\",\"#FFA15A\",\"#19d3f3\",\"#FF6692\",\"#B6E880\",\"#FF97FF\",\"#FECB52\"],\"font\":{\"color\":\"#2a3f5f\"},\"hovermode\":\"closest\",\"hoverlabel\":{\"align\":\"left\"},\"paper_bgcolor\":\"white\",\"plot_bgcolor\":\"#E5ECF6\",\"polar\":{\"bgcolor\":\"#E5ECF6\",\"angularaxis\":{\"gridcolor\":\"white\",\"linecolor\":\"white\",\"ticks\":\"\"},\"radialaxis\":{\"gridcolor\":\"white\",\"linecolor\":\"white\",\"ticks\":\"\"}},\"ternary\":{\"bgcolor\":\"#E5ECF6\",\"aaxis\":{\"gridcolor\":\"white\",\"linecolor\":\"white\",\"ticks\":\"\"},\"baxis\":{\"gridcolor\":\"white\",\"linecolor\":\"white\",\"ticks\":\"\"},\"caxis\":{\"gridcolor\":\"white\",\"linecolor\":\"white\",\"ticks\":\"\"}},\"coloraxis\":{\"colorbar\":{\"outlinewidth\":0,\"ticks\":\"\"}},\"colorscale\":{\"sequential\":[[0.0,\"#0d0887\"],[0.1111111111111111,\"#46039f\"],[0.2222222222222222,\"#7201a8\"],[0.3333333333333333,\"#9c179e\"],[0.4444444444444444,\"#bd3786\"],[0.5555555555555556,\"#d8576b\"],[0.6666666666666666,\"#ed7953\"],[0.7777777777777778,\"#fb9f3a\"],[0.8888888888888888,\"#fdca26\"],[1.0,\"#f0f921\"]],\"sequentialminus\":[[0.0,\"#0d0887\"],[0.1111111111111111,\"#46039f\"],[0.2222222222222222,\"#7201a8\"],[0.3333333333333333,\"#9c179e\"],[0.4444444444444444,\"#bd3786\"],[0.5555555555555556,\"#d8576b\"],[0.6666666666666666,\"#ed7953\"],[0.7777777777777778,\"#fb9f3a\"],[0.8888888888888888,\"#fdca26\"],[1.0,\"#f0f921\"]],\"diverging\":[[0,\"#8e0152\"],[0.1,\"#c51b7d\"],[0.2,\"#de77ae\"],[0.3,\"#f1b6da\"],[0.4,\"#fde0ef\"],[0.5,\"#f7f7f7\"],[0.6,\"#e6f5d0\"],[0.7,\"#b8e186\"],[0.8,\"#7fbc41\"],[0.9,\"#4d9221\"],[1,\"#276419\"]]},\"xaxis\":{\"gridcolor\":\"white\",\"linecolor\":\"white\",\"ticks\":\"\",\"title\":{\"standoff\":15},\"zerolinecolor\":\"white\",\"automargin\":true,\"zerolinewidth\":2},\"yaxis\":{\"gridcolor\":\"white\",\"linecolor\":\"white\",\"ticks\":\"\",\"title\":{\"standoff\":15},\"zerolinecolor\":\"white\",\"automargin\":true,\"zerolinewidth\":2},\"scene\":{\"xaxis\":{\"backgroundcolor\":\"#E5ECF6\",\"gridcolor\":\"white\",\"linecolor\":\"white\",\"showbackground\":true,\"ticks\":\"\",\"zerolinecolor\":\"white\",\"gridwidth\":2},\"yaxis\":{\"backgroundcolor\":\"#E5ECF6\",\"gridcolor\":\"white\",\"linecolor\":\"white\",\"showbackground\":true,\"ticks\":\"\",\"zerolinecolor\":\"white\",\"gridwidth\":2},\"zaxis\":{\"backgroundcolor\":\"#E5ECF6\",\"gridcolor\":\"white\",\"linecolor\":\"white\",\"showbackground\":true,\"ticks\":\"\",\"zerolinecolor\":\"white\",\"gridwidth\":2}},\"shapedefaults\":{\"line\":{\"color\":\"#2a3f5f\"}},\"annotationdefaults\":{\"arrowcolor\":\"#2a3f5f\",\"arrowhead\":0,\"arrowwidth\":1},\"geo\":{\"bgcolor\":\"white\",\"landcolor\":\"#E5ECF6\",\"subunitcolor\":\"white\",\"showland\":true,\"showlakes\":true,\"lakecolor\":\"white\"},\"title\":{\"x\":0.05},\"mapbox\":{\"style\":\"light\"}}},\"xaxis\":{\"anchor\":\"y\",\"domain\":[0.0,1.0],\"title\":{\"text\":\"Score\"}},\"yaxis\":{\"anchor\":\"x\",\"domain\":[0.0,1.0],\"title\":{\"text\":\"Model\"}},\"coloraxis\":{\"colorbar\":{\"title\":{\"text\":\"Score\"}},\"colorscale\":[[0.0,\"#440154\"],[0.1111111111111111,\"#482878\"],[0.2222222222222222,\"#3e4989\"],[0.3333333333333333,\"#31688e\"],[0.4444444444444444,\"#26828e\"],[0.5555555555555556,\"#1f9e89\"],[0.6666666666666666,\"#35b779\"],[0.7777777777777778,\"#6ece58\"],[0.8888888888888888,\"#b5de2b\"],[1.0,\"#fde725\"]]},\"legend\":{\"tracegroupgap\":0},\"margin\":{\"t\":60},\"barmode\":\"relative\"},                        {\"responsive\": true}                    ).then(function(){\n",
              "                            \n",
              "var gd = document.getElementById('242193fc-30af-4977-b1c8-91a258fa3b34');\n",
              "var x = new MutationObserver(function (mutations, observer) {{\n",
              "        var display = window.getComputedStyle(gd).display;\n",
              "        if (!display || display === 'none') {{\n",
              "            console.log([gd, 'removed!']);\n",
              "            Plotly.purge(gd);\n",
              "            observer.disconnect();\n",
              "        }}\n",
              "}});\n",
              "\n",
              "// Listen for the removal of the full notebook cells\n",
              "var notebookContainer = gd.closest('#notebook-container');\n",
              "if (notebookContainer) {{\n",
              "    x.observe(notebookContainer, {childList: true});\n",
              "}}\n",
              "\n",
              "// Listen for the clearing of the current output cell\n",
              "var outputEl = gd.closest('.output');\n",
              "if (outputEl) {{\n",
              "    x.observe(outputEl, {childList: true});\n",
              "}}\n",
              "\n",
              "                        })                };                            </script>        </div>\n",
              "</body>\n",
              "</html>"
            ]
          },
          "metadata": {}
        }
      ]
    },
    {
      "cell_type": "markdown",
      "source": [
        "Gráfico Barras TechniquesFrequence"
      ],
      "metadata": {
        "id": "N0VlO22YW2xf"
      }
    },
    {
      "cell_type": "code",
      "source": [
        "import plotly.express as px\n",
        "import pandas as pd\n",
        "\n",
        "# Datos de muestra\n",
        "df = pd.DataFrame(dict(\n",
        "    Techniques = [\"KNN\",\"Xception\",\"ResNet-50\",\"ResNet-101\",\"Inception-v4\",\"Inception V3\",\"XGBoost (XGB)\",\"DenseNet-169\",\"DenseNet-121\",\"Mobile Net V2\",\"Deep Transfer Learning\",\"Mean Square Error (MSE)\",\"Logistic Regression (LR)\",\"Weber Local Descriptor (WLD)\",\"Sequential Minimal Optimization (SMO)\",\"Peak Signal to Noise Ratio (PSNR)\",\"Multilayer Perceptron (MLP)\",\"Gradient Descent algorithm (GD)\",\"Feed-Forward Back Propagation Network (FFBPN)\",\"Discrete Fourier Transform (DFT)\",\"Discrete Cosine Transform (DCT)\",\"Black Hole Algorithm (BHO)\",\"Artificial Neural Network (ANN)\",\"VGG16\",\"LibSVM\",\"Local Binary Pattern (LBP)\",\"Grey Level Co-occurrence Matrix (GLCM)\",\"Convolutional Neural Network (CNN)\",\"Random Forests (RF)\",\"Decision Trees (DT)\",\"Support Vector Machine (SVM)\"],\n",
        "     Frequence = [1,1,1,1,1,1,1,1,1,1,1,1,1,1,1,1,1,1,1,1,1,1,1,2,2,2,2,2,3,3,6],\n",
        "          text = [1,1,1,1,1,1,1,1,1,1,1,1,1,1,1,1,1,1,1,1,1,1,1,2,2,2,2,2,3,3,6]))\n",
        "\n",
        "fig = px.bar(df, x = 'Techniques', y = 'Frequence', text = 'text', color = 'Frequence')\n",
        "\n",
        "fig.show() \n"
      ],
      "metadata": {
        "id": "0SIq1H0PXNz9"
      },
      "execution_count": null,
      "outputs": []
    },
    {
      "cell_type": "markdown",
      "source": [
        "Gráfico Nuvens de Palavras"
      ],
      "metadata": {
        "id": "sI20rNmSXkas"
      }
    },
    {
      "cell_type": "code",
      "source": [
        "from wordcloud import WordCloud, ImageColorGenerator\n",
        "from PIL import Image\n",
        "import numpy as np\n",
        "import pandas as pd\n",
        "import matplotlib.pyplot as plt"
      ],
      "metadata": {
        "id": "owW_4wh0Xp0U"
      },
      "execution_count": null,
      "outputs": []
    },
    {
      "cell_type": "code",
      "source": [
        "from google.colab import drive\n",
        "drive.mount('/content/drive')"
      ],
      "metadata": {
        "colab": {
          "base_uri": "https://localhost:8080/"
        },
        "id": "BYM13QfaY1u9",
        "outputId": "07ad2d36-f022-489a-8068-d0fb70312805"
      },
      "execution_count": null,
      "outputs": [
        {
          "output_type": "stream",
          "name": "stdout",
          "text": [
            "Mounted at /content/drive\n"
          ]
        }
      ]
    },
    {
      "cell_type": "code",
      "source": [
        "# Read CSV\n",
        "df_words = pd.read_csv('/content/drive/MyDrive/Colab Notebooks/dadosW.csv', encoding = 'ISO-8859-1')"
      ],
      "metadata": {
        "id": "AJ99eQotXtKt"
      },
      "execution_count": null,
      "outputs": []
    },
    {
      "cell_type": "code",
      "source": [
        "# cria um dicionário com os dados, necessário para a word cloud\n",
        "d = {}\n",
        "for name, freq in df_words.values:\n",
        "    d[name] = freq\n",
        "\n",
        "# inicializa uma word cloud\n",
        "wordcloud = WordCloud(background_color = 'white',\n",
        "                              colormap = 'hot')\n",
        "                              \n",
        "\n",
        "# gera uma wordcloud através do dicionário de frequências\n",
        "wordcloud.generate_from_frequencies(frequencies = d)\n",
        "\n",
        "plt.figure(figsize = (15, 10)) # tamanho do gráfico\n",
        "plt.imshow(wordcloud, interpolation = 'bilinear') # plotagem da nuvem de palavras\n",
        "plt.axis('off') # remove as bordas\n",
        "plt.show() # mostra a word cloud"
      ],
      "metadata": {
        "id": "jAqLZcRBaX8R"
      },
      "execution_count": null,
      "outputs": []
    },
    {
      "cell_type": "markdown",
      "source": [
        "Pier Chart Modificado"
      ],
      "metadata": {
        "id": "6B85XRJla4m5"
      }
    },
    {
      "cell_type": "code",
      "source": [
        "# Import libraries\n",
        "import numpy as np\n",
        "import matplotlib.pyplot as plt\n",
        " \n",
        " \n",
        "# Creating dataset\n",
        "cars = ['Acne','Acne Vulgaris','Atopic Dermatitis','Buruli Ucer',\"Down's syndrome\",'Eczema','Foot ulcer','Hyperthyroidism','Keratosis Pilaris','Leishmaniasis','Melanoma','Other Dermatoses','Pityriasis rosea','Psoriasis','Sarampo','Scabies','Thalassemia','Tinea Corporis','Tineaversicolor','Vitiligo','Warts']\n",
        " \n",
        "data = [1, 1, 1, 1, 1, 3, 1, 1, 1, 1, 1, 1, 1, 2, 1, 1, 1, 1, 4, 5, 1]\n",
        " \n",
        " \n",
        "# Creating explode data\n",
        "explode = (0,0,0,0,0,0.1,0,0,0,0,0,0,0,0.1,0.1,0,0,0,0.1,0.1,0)\n",
        " \n",
        "# Creating color parameters\n",
        "colors = ('#D2B48C','#CD5C5C','#BDB76B','#B8860B','#B0C4DE','#9932CC','#8B4513','#808080','#556B2F','#483D8B','#40E0D0','#2F4F4F','#228B22','#191970','#FFD700','k','#00FF7F','#ADD8E6','#9ACD32','r')\n",
        " \n",
        "# Wedge properties\n",
        "wp = { 'linewidth' : 1, 'edgecolor' : \"gray\" }\n",
        " \n",
        " \n",
        "# Creating autocpt arguments\n",
        "def func(pct, allvalues):\n",
        "    absolute = int(pct / 100.*np.sum(allvalues))\n",
        "    return \"{:.0f}%\".format(pct, absolute)\n",
        " \n",
        "# Creating plot\n",
        "fig, ax = plt.subplots(figsize =(10, 7))\n",
        "wedges, texts, autotexts = ax.pie(data,\n",
        "                                  autopct = lambda pct: func(pct, data),\n",
        "                                  explode = explode,\n",
        "                                  labels = data,\n",
        "                                  #shadow = True,\n",
        "                                  colors = colors,\n",
        "                                  startangle = 90,\n",
        "                                  wedgeprops = wp,\n",
        "                                  textprops = dict(color =\"black\"))\n",
        " \n",
        "# Adding legend\n",
        "ax.legend(wedges, cars,\n",
        "          title =\"Diseases\",\n",
        "          loc =\"center left\",\n",
        "          bbox_to_anchor =(1.15, 0, 0.5, 1))\n",
        " \n",
        "plt.setp(autotexts, size = 8, weight =\"normal\")\n",
        "ax.set_title(\"Frequency of disease analyzed with leprosy\")\n",
        " \n",
        "# show plot\n",
        "plt.show()"
      ],
      "metadata": {
        "id": "NClsTG_Ia7HV"
      },
      "execution_count": null,
      "outputs": []
    }
  ]
}